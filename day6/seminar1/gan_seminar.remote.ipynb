{
 "cells": [
  {
   "cell_type": "markdown",
   "metadata": {},
   "source": [
    "### Generating human faces with Adversarial Networks\n",
    "[![img](https://www.strangerdimensions.com/wp-content/uploads/2013/11/reception-robot.jpg)](http://payload.cargocollective.com/1/0/17293/393670/HumanTaxidermy01.jpg)\n",
    "\n",
    "This time we'll train a neural net to generate plausible human faces in all their subtlty: appearance, expression, accessories, etc. 'Cuz when us machines gonna take over Earth, there won't be any more faces left. We want to preserve this data for future iterations. Yikes...\n",
    "\n",
    "Based on Based on https://github.com/Lasagne/Recipes/pull/94 .\n"
   ]
  },
  {
   "cell_type": "code",
   "execution_count": 3,
   "metadata": {
    "scrolled": true
   },
   "outputs": [
    {
     "name": "stdout",
     "output_type": "stream",
     "text": [
      "Requirement already satisfied: tqdm in /home/ehlers/.local/lib/python3.6/site-packages\r\n"
     ]
    }
   ],
   "source": [
    "!pip install --user tqdm"
   ]
  },
  {
   "cell_type": "code",
   "execution_count": 4,
   "metadata": {
    "collapsed": true
   },
   "outputs": [],
   "source": [
    "import tqdm"
   ]
  },
  {
   "cell_type": "code",
   "execution_count": 5,
   "metadata": {
    "collapsed": true
   },
   "outputs": [],
   "source": [
    "import matplotlib.pyplot as plt\n",
    "%matplotlib inline\n",
    "import numpy as np\n",
    "plt.rcParams.update({'axes.titlesize': 'small'})\n",
    "\n",
    "from sklearn.datasets import load_digits\n",
    "#The following line fetches you two datasets: images, usable for autoencoder training and attributes.\n",
    "#Those attributes will be required for the final part of the assignment (applying smiles), so please keep them in mind\n",
    "from lfw_dataset import fetch_lfw_dataset\n",
    "data,attrs = fetch_lfw_dataset(dimx=36,dimy=36)\n",
    "\n",
    "#preprocess faces\n",
    "data = np.float32(data)/255.\n",
    "\n",
    "IMG_SHAPE = data.shape[1:]"
   ]
  },
  {
   "cell_type": "code",
   "execution_count": 6,
   "metadata": {},
   "outputs": [
    {
     "data": {
      "text/plain": [
       "<matplotlib.image.AxesImage at 0x7f10833cbcc0>"
      ]
     },
     "execution_count": 6,
     "metadata": {},
     "output_type": "execute_result"
    },
    {
     "data": {
      "image/png": "[encoded data removed]",
      "text/plain": [
       "<matplotlib.figure.Figure at 0x7f105d114e80>"
      ]
     },
     "metadata": {},
     "output_type": "display_data"
    }
   ],
   "source": [
    "#print random image\n",
    "plt.imshow(data[np.random.randint(data.shape[0])], cmap=\"gray\", interpolation=\"none\")"
   ]
  },
  {
   "cell_type": "markdown",
   "metadata": {},
   "source": [
    "# Generative adversarial nets 101\n",
    "\n",
    "<img src=\"https://raw.githubusercontent.com/torch/torch.github.io/master/blog/_posts/images/model.png\" width=320px height=240px>\n",
    "\n",
    "Deep learning is simple, isn't it? \n",
    "* build some network that generates the face (small image)\n",
    "* make up a __measure__ of __how good that face is__\n",
    "* optimize with gradient descent :)\n",
    "\n",
    "\n",
    "The only problem is: how can we engineers tell well-generated faces from bad? And i bet you we won't ask a designer for help. \n",
    "\n",
    "__If we can't tell good faces from bad, we delegate it to yet another neural network!__\n",
    "\n",
    "That makes the two of them:\n",
    "* __G__enerator - takes random noize for inspiration and tries to generate a face sample. \n",
    "  * Let's call him __G__(z), where z is a gaussian noize.\n",
    "* __D__iscriminator - takes a face sample and tries to tell if it's great or fake. \n",
    "  * Predicts the probability of input image being a __real face__\n",
    "  * Let's call him __D__(x), x being an image.\n",
    "  * __D(x)__ is a predition for real image and __D(G(z))__ is prediction for the face made by generator.\n",
    "\n",
    "Before we dive into training them, let's construct the two networks."
   ]
  },
  {
   "cell_type": "code",
   "execution_count": 7,
   "metadata": {},
   "outputs": [
    {
     "name": "stderr",
     "output_type": "stream",
     "text": [
      "Using TensorFlow backend.\n"
     ]
    }
   ],
   "source": [
    "import tensorflow as tf\n",
    "gpu_options = tf.GPUOptions(allow_growth=True,per_process_gpu_memory_fraction=0.333)\n",
    "s = tf.InteractiveSession(config=tf.ConfigProto(gpu_options=gpu_options))\n",
    "\n",
    "import keras\n",
    "from keras.models import Sequential\n",
    "from keras import layers as L"
   ]
  },
  {
   "cell_type": "code",
   "execution_count": 8,
   "metadata": {
    "collapsed": true,
    "scrolled": false
   },
   "outputs": [],
   "source": [
    "CODE_SIZE = 256\n",
    "\n",
    "generator = Sequential()\n",
    "generator.add(L.InputLayer([CODE_SIZE],name='noise'))\n",
    "generator.add(L.Dense(10*8*8, activation='elu'))\n",
    "\n",
    "generator.add(L.Reshape((8,8,10)))\n",
    "generator.add(L.Deconv2D(64,kernel_size=(5,5),activation='elu'))\n",
    "generator.add(L.Deconv2D(64,kernel_size=(5,5),activation='elu'))\n",
    "generator.add(L.UpSampling2D(size=(2,2)))\n",
    "generator.add(L.Deconv2D(32,kernel_size=3,activation='elu'))\n",
    "generator.add(L.Deconv2D(32,kernel_size=3,activation='elu'))\n",
    "generator.add(L.Deconv2D(32,kernel_size=3,activation='elu'))\n",
    "\n",
    "generator.add(L.Conv2D(3,kernel_size=3,activation=None))\n"
   ]
  },
  {
   "cell_type": "code",
   "execution_count": 9,
   "metadata": {},
   "outputs": [
    {
     "name": "stdout",
     "output_type": "stream",
     "text": [
      "_________________________________________________________________\n",
      "Layer (type)                 Output Shape              Param #   \n",
      "=================================================================\n",
      "noise (InputLayer)           (None, 256)               0         \n",
      "_________________________________________________________________\n",
      "dense_1 (Dense)              (None, 640)               164480    \n",
      "_________________________________________________________________\n",
      "reshape_1 (Reshape)          (None, 8, 8, 10)          0         \n",
      "_________________________________________________________________\n",
      "conv2d_transpose_1 (Conv2DTr (None, 12, 12, 64)        16064     \n",
      "_________________________________________________________________\n",
      "conv2d_transpose_2 (Conv2DTr (None, 16, 16, 64)        102464    \n",
      "_________________________________________________________________\n",
      "up_sampling2d_1 (UpSampling2 (None, 32, 32, 64)        0         \n",
      "_________________________________________________________________\n",
      "conv2d_transpose_3 (Conv2DTr (None, 34, 34, 32)        18464     \n",
      "_________________________________________________________________\n",
      "conv2d_transpose_4 (Conv2DTr (None, 36, 36, 32)        9248      \n",
      "_________________________________________________________________\n",
      "conv2d_transpose_5 (Conv2DTr (None, 38, 38, 32)        9248      \n",
      "_________________________________________________________________\n",
      "conv2d_1 (Conv2D)            (None, 36, 36, 3)         867       \n",
      "=================================================================\n",
      "Total params: 320,835\n",
      "Trainable params: 320,835\n",
      "Non-trainable params: 0\n",
      "_________________________________________________________________\n"
     ]
    }
   ],
   "source": [
    "generator.summary()"
   ]
  },
  {
   "cell_type": "code",
   "execution_count": 10,
   "metadata": {
    "collapsed": true
   },
   "outputs": [],
   "source": [
    "assert generator.output_shape[1:] == IMG_SHAPE, \"generator must output an image of shape %s, but instead it produces %s\"%(IMG_SHAPE,generator.output_shape[1:])"
   ]
  },
  {
   "cell_type": "markdown",
   "metadata": {},
   "source": [
    "### Discriminator\n",
    "* Discriminator is your usual convolutional network with interlooping convolution and pooling layers\n",
    "* The network does not include dropout/batchnorm to avoid learning complications.\n",
    "* We also regularize the pre-output layer to prevent discriminator from being too certain."
   ]
  },
  {
   "cell_type": "code",
   "execution_count": 11,
   "metadata": {
    "collapsed": true
   },
   "outputs": [],
   "source": [
    "discriminator = Sequential()\n",
    "\n",
    "discriminator.add(L.InputLayer(IMG_SHAPE))\n",
    "\n",
    "#<build discriminator body>\n",
    "discriminator.add(L.Conv2D(32,\n",
    "                           kernel_size=(3,3),\n",
    "                           padding = 'same', # Pads with zeros so that the images stays the same size after filtering.\n",
    "                           ))\n",
    "discriminator.add(L.MaxPooling2D((2,2)))\n",
    "\n",
    "discriminator.add(L.Conv2D(64,\n",
    "                           kernel_size=(3,3),\n",
    "                           padding = 'same', # Pads with zeros so that the images stays the same size after filtering.\n",
    "                           ))\n",
    "discriminator.add(L.MaxPooling2D((2,2)))\n",
    "\n",
    "discriminator.add(L.Conv2D(128,\n",
    "                           kernel_size=(3,3),\n",
    "                           padding = 'same', # Pads with zeros so that the images stays the same size after filtering.\n",
    "                           ))\n",
    "discriminator.add(L.MaxPooling2D((2,2)))\n",
    "\n",
    "discriminator.add(L.Flatten())\n",
    "discriminator.add(L.Dense(256,activation='tanh'))\n",
    "discriminator.add(L.Dense(2,activation=tf.nn.log_softmax))\n"
   ]
  },
  {
   "cell_type": "code",
   "execution_count": 12,
   "metadata": {},
   "outputs": [
    {
     "name": "stdout",
     "output_type": "stream",
     "text": [
      "_________________________________________________________________\n",
      "Layer (type)                 Output Shape              Param #   \n",
      "=================================================================\n",
      "input_1 (InputLayer)         (None, 36, 36, 3)         0         \n",
      "_________________________________________________________________\n",
      "conv2d_2 (Conv2D)            (None, 36, 36, 32)        896       \n",
      "_________________________________________________________________\n",
      "max_pooling2d_1 (MaxPooling2 (None, 18, 18, 32)        0         \n",
      "_________________________________________________________________\n",
      "conv2d_3 (Conv2D)            (None, 18, 18, 64)        18496     \n",
      "_________________________________________________________________\n",
      "max_pooling2d_2 (MaxPooling2 (None, 9, 9, 64)          0         \n",
      "_________________________________________________________________\n",
      "conv2d_4 (Conv2D)            (None, 9, 9, 128)         73856     \n",
      "_________________________________________________________________\n",
      "max_pooling2d_3 (MaxPooling2 (None, 4, 4, 128)         0         \n",
      "_________________________________________________________________\n",
      "flatten_1 (Flatten)          (None, 2048)              0         \n",
      "_________________________________________________________________\n",
      "dense_2 (Dense)              (None, 256)               524544    \n",
      "_________________________________________________________________\n",
      "dense_3 (Dense)              (None, 2)                 514       \n",
      "=================================================================\n",
      "Total params: 618,306\n",
      "Trainable params: 618,306\n",
      "Non-trainable params: 0\n",
      "_________________________________________________________________\n"
     ]
    }
   ],
   "source": [
    "discriminator.summary()"
   ]
  },
  {
   "cell_type": "markdown",
   "metadata": {},
   "source": [
    "# Training\n",
    "\n",
    "We train the two networks concurrently:\n",
    "* Train __discriminator__ to better distinguish real data from __current__ generator\n",
    "* Train __generator__ to make discriminator think generator is real\n",
    "* Since discriminator is a differentiable neural network, we train both with gradient descent.\n",
    "\n",
    "![img](https://s24.postimg.org/cw4nognxx/gan.png)\n",
    "\n",
    "Training is done iteratively until discriminator is no longer able to find the difference (or until you run out of patience).\n",
    "\n",
    "\n",
    "### Tricks:\n",
    "* Regularize discriminator output weights to prevent explosion\n",
    "* Train generator with __adam__ to speed up training. Discriminator trains with SGD to avoid problems with momentum.\n",
    "* More: https://github.com/soumith/ganhacks\n"
   ]
  },
  {
   "cell_type": "code",
   "execution_count": 13,
   "metadata": {
    "collapsed": true
   },
   "outputs": [],
   "source": [
    "noise = tf.placeholder('float32',[None,CODE_SIZE])\n",
    "real_data = tf.placeholder('float32',[None,]+list(IMG_SHAPE))\n",
    "\n",
    "logp_real = discriminator(real_data)\n",
    "\n",
    "#generated_data = <gen(noise)>\n",
    "generated_data = generator(noise)\n",
    "\n",
    "#logp_gen = <log P(real | gen(noise))\n",
    "logp_gen = discriminator(generated_data)\n"
   ]
  },
  {
   "cell_type": "code",
   "execution_count": 14,
   "metadata": {
    "collapsed": true
   },
   "outputs": [],
   "source": [
    "########################\n",
    "#discriminator training#\n",
    "########################\n",
    "\n",
    "d_loss = -tf.reduce_mean(logp_real[:,1] + logp_gen[:,0])\n",
    "\n",
    "#regularize\n",
    "d_loss += tf.reduce_mean(discriminator.layers[-1].kernel**2)\n",
    "\n",
    "#optimize\n",
    "# RJE: The generator evolves, so the data changes all the time.\n",
    "#      Thus, momentum is problematic because it slows the reaction to those changes\n",
    "disc_optimizer =  tf.train.GradientDescentOptimizer(1e-3).minimize(d_loss,var_list=discriminator.trainable_weights)"
   ]
  },
  {
   "cell_type": "code",
   "execution_count": 15,
   "metadata": {
    "collapsed": true
   },
   "outputs": [],
   "source": [
    "########################\n",
    "###generator training###\n",
    "########################\n",
    "\n",
    "#g_loss = <generator loss>\n",
    "g_loss = -tf.reduce_mean(logp_gen[:,1])\n",
    "\n",
    "gen_optimizer = tf.train.AdamOptimizer(1e-4).minimize(g_loss,var_list=generator.trainable_weights)\n",
    "\n",
    "    "
   ]
  },
  {
   "cell_type": "code",
   "execution_count": 16,
   "metadata": {
    "collapsed": true
   },
   "outputs": [],
   "source": [
    "s.run(tf.global_variables_initializer())"
   ]
  },
  {
   "cell_type": "markdown",
   "metadata": {},
   "source": [
    "### Auxilary functions\n",
    "Here we define a few helper functions that draw current data distributions and sample training batches."
   ]
  },
  {
   "cell_type": "code",
   "execution_count": 17,
   "metadata": {
    "collapsed": true
   },
   "outputs": [],
   "source": [
    "def sample_noise_batch(bsize):\n",
    "    return np.random.normal(size=(bsize, CODE_SIZE)).astype('float32')\n",
    "\n",
    "def sample_data_batch(bsize):\n",
    "    idxs = np.random.choice(np.arange(data.shape[0]), size=bsize)\n",
    "    return data[idxs]\n",
    "\n",
    "def sample_images(nrow,ncol, sharp=False):\n",
    "    images = generator.predict(sample_noise_batch(bsize=nrow*ncol))\n",
    "    if np.var(images)!=0:\n",
    "        images = images.clip(np.min(data),np.max(data))\n",
    "    for i in range(nrow*ncol):\n",
    "        plt.subplot(nrow,ncol,i+1)\n",
    "        if sharp:\n",
    "            plt.imshow(images[i].reshape(IMG_SHAPE),cmap=\"gray\", interpolation=\"none\")\n",
    "        else:\n",
    "            plt.imshow(images[i].reshape(IMG_SHAPE),cmap=\"gray\")\n",
    "    plt.show()\n",
    "\n",
    "def sample_probas(bsize):\n",
    "    plt.title('Generated vs real data')\n",
    "    plt.hist(np.exp(discriminator.predict(sample_data_batch(bsize)))[:,1],\n",
    "             label='D(x)', alpha=0.5,range=[0,1])\n",
    "    plt.hist(np.exp(discriminator.predict(generator.predict(sample_noise_batch(bsize))))[:,1],\n",
    "             label='D(G(z))',alpha=0.5,range=[0,1])\n",
    "    plt.legend(loc='best')\n",
    "    plt.show()"
   ]
  },
  {
   "cell_type": "markdown",
   "metadata": {},
   "source": [
    "### Training\n",
    "Main loop.\n",
    "We just train generator and discriminator in a loop and draw results once every N iterations."
   ]
  },
  {
   "cell_type": "code",
   "execution_count": null,
   "metadata": {
    "collapsed": true
   },
   "outputs": [],
   "source": [
    "#!pip install tqdm --user"
   ]
  },
  {
   "cell_type": "code",
   "execution_count": null,
   "metadata": {
    "scrolled": false
   },
   "outputs": [
    {
     "data": {
      "image/png": "[encoded data removed]",
      "text/plain": [
       "<matplotlib.figure.Figure at 0x7f1048671630>"
      ]
     },
     "metadata": {},
     "output_type": "display_data"
    },
    {
     "data": {
      "image/png": "[encoded data removed]",
      "text/plain": [
       "<matplotlib.figure.Figure at 0x7f10486c0a58>"
      ]
     },
     "metadata": {},
     "output_type": "display_data"
    }
   ],
   "source": [
    "from IPython import display\n",
    "from tqdm import tnrange\n",
    "\n",
    "for epoch in tnrange(50000):\n",
    "    \n",
    "    feed_dict = {\n",
    "        real_data:sample_data_batch(100),\n",
    "        noise:sample_noise_batch(100)\n",
    "    }\n",
    "    \n",
    "    # 5 is empirical.\n",
    "    # It just seems to make the learnring as fast as possible for values 2-10\n",
    "    for i in range(5):\n",
    "        s.run(disc_optimizer,feed_dict)\n",
    "    \n",
    "    s.run(gen_optimizer,feed_dict)\n",
    "    \n",
    "    if epoch %100==0:\n",
    "        display.clear_output(wait=True)\n",
    "        sample_images(2,3,True)\n",
    "        sample_probas(1000)\n",
    "        "
   ]
  },
  {
   "cell_type": "code",
   "execution_count": null,
   "metadata": {
    "scrolled": false
   },
   "outputs": [],
   "source": [
    "#The network was trained for about 15k iterations. \n",
    "#Training for longer yields MUCH better results\n",
    "plt.figure(figsize=[16,24])\n",
    "sample_images(16,8)"
   ]
  },
  {
   "cell_type": "code",
   "execution_count": null,
   "metadata": {
    "collapsed": true
   },
   "outputs": [],
   "source": []
  }
 ],
 "metadata": {
  "anaconda-cloud": {},
  "kernelspec": {
   "display_name": "Python 3",
   "language": "python",
   "name": "python3"
  },
  "language_info": {
   "codemirror_mode": {
    "name": "ipython",
    "version": 3
   },
   "file_extension": ".py",
   "mimetype": "text/x-python",
   "name": "python",
   "nbconvert_exporter": "python",
   "pygments_lexer": "ipython3",
   "version": "3.6.1"
  }
 },
 "nbformat": 4,
 "nbformat_minor": 1
}
