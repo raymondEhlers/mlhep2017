{
 "cells": [
  {
   "cell_type": "code",
   "execution_count": 1,
   "metadata": {
    "collapsed": true
   },
   "outputs": [],
   "source": [
    "# Setup\n",
    "import numpy as np\n",
    "import pandas as pd\n",
    "import matplotlib.pyplot as plt\n",
    "%matplotlib inline"
   ]
  },
  {
   "cell_type": "markdown",
   "metadata": {},
   "source": [
    "# Setup data"
   ]
  },
  {
   "cell_type": "code",
   "execution_count": 2,
   "metadata": {
    "collapsed": true
   },
   "outputs": [],
   "source": [
    "from sklearn.model_selection import train_test_split\n",
    "tracks_dataset = \"DS_1_train.csv\"\n",
    "electrons_dataset = \"DS_1_electron_train.csv\""
   ]
  },
  {
   "cell_type": "markdown",
   "metadata": {},
   "source": [
    "## Tracks"
   ]
  },
  {
   "cell_type": "code",
   "execution_count": 36,
   "metadata": {},
   "outputs": [],
   "source": [
    "# Setup tracks dataset\n",
    "featuresTracks = [\"X\", 'Y', 'Z', 'TX', 'TY', \"chi2\"]\n",
    "tracks = pd.read_csv(tracks_dataset, index_col=\"index\", usecols=[\n",
    "    'index'] + featuresTracks + ['signal'])\n",
    "trainTracks, testTracks = train_test_split(tracks, random_state=14)"
   ]
  },
  {
   "cell_type": "code",
   "execution_count": 37,
   "metadata": {},
   "outputs": [],
   "source": [
    "xTrainTracks = trainTracks[featuresTracks]\n",
    "xTestTracks = testTracks[featuresTracks]\n",
    "yTrainTracks = trainTracks['signal']\n",
    "yTestTracks = testTracks['signal']"
   ]
  },
  {
   "cell_type": "markdown",
   "metadata": {},
   "source": [
    "## Electrons"
   ]
  },
  {
   "cell_type": "code",
   "execution_count": 5,
   "metadata": {
    "collapsed": true
   },
   "outputs": [],
   "source": [
    "featuresElectrons = [\"P\", \"X\", 'Y', 'Z', 'TX', 'TY']\n",
    "electrons = pd.read_csv(electrons_dataset, index_col=\"event_id\", usecols=[\n",
    "    'event_id'] + featuresElectrons)\n",
    "trainElectrons, testElectrons = train_test_split(electrons, random_state=2349)"
   ]
  },
  {
   "cell_type": "code",
   "execution_count": 6,
   "metadata": {},
   "outputs": [],
   "source": [
    "xTrainElectrons = trainElectrons[featuresElectrons]\n",
    "xTestElectrons = testElectrons[featuresElectrons]\n",
    "#yTrainElectrons = trainElectrons['signal']\n",
    "#yTestElectrons = testElectrons['signal']"
   ]
  },
  {
   "cell_type": "markdown",
   "metadata": {},
   "source": [
    "## Basic properties"
   ]
  },
  {
   "cell_type": "code",
   "execution_count": 7,
   "metadata": {},
   "outputs": [
    {
     "ename": "NameError",
     "evalue": "name 'fig' is not defined",
     "output_type": "error",
     "traceback": [
      "\u001b[0;31m---------------------------------------------------------------------------\u001b[0m",
      "\u001b[0;31mNameError\u001b[0m                                 Traceback (most recent call last)",
      "\u001b[0;32m<ipython-input-7-6c7c9ce6772a>\u001b[0m in \u001b[0;36m<module>\u001b[0;34m()\u001b[0m\n\u001b[1;32m      1\u001b[0m \u001b[0maxes\u001b[0m \u001b[0;34m=\u001b[0m \u001b[0mplt\u001b[0m\u001b[0;34m.\u001b[0m\u001b[0msubplot\u001b[0m\u001b[0;34m(\u001b[0m\u001b[0;36m2\u001b[0m\u001b[0;34m,\u001b[0m\u001b[0;36m1\u001b[0m\u001b[0;34m,\u001b[0m\u001b[0;36m2\u001b[0m\u001b[0;34m)\u001b[0m\u001b[0;34m\u001b[0m\u001b[0m\n\u001b[0;32m----> 2\u001b[0;31m \u001b[0;32mprint\u001b[0m\u001b[0;34m(\u001b[0m\u001b[0mfig\u001b[0m\u001b[0;34m)\u001b[0m\u001b[0;34m\u001b[0m\u001b[0m\n\u001b[0m",
      "\u001b[0;31mNameError\u001b[0m: name 'fig' is not defined"
     ]
    },
    {
     "data": {
      "image/png": "[encoded data removed]",
      "text/plain": [
       "<matplotlib.figure.Figure at 0x10d6b5490>"
      ]
     },
     "metadata": {},
     "output_type": "display_data"
    }
   ],
   "source": [
    "#axes = plt.subplot(2,1,2)\n",
    "#print(fig)"
   ]
  },
  {
   "cell_type": "code",
   "execution_count": 29,
   "metadata": {},
   "outputs": [
    {
     "data": {
      "text/plain": [
       "index\n",
       "407819     0.0\n",
       "886856     0.0\n",
       "624146     1.0\n",
       "630297     0.0\n",
       "426658     0.0\n",
       "557639     0.0\n",
       "374868     0.0\n",
       "335467     0.0\n",
       "426259     0.0\n",
       "495885     0.0\n",
       "698677     0.0\n",
       "476780     0.0\n",
       "402291     1.0\n",
       "1112686    0.0\n",
       "447179     0.0\n",
       "733356     0.0\n",
       "901628     0.0\n",
       "184455     0.0\n",
       "588248     0.0\n",
       "685583     0.0\n",
       "129077     0.0\n",
       "128039     0.0\n",
       "953832     0.0\n",
       "270199     0.0\n",
       "352524     0.0\n",
       "845815     0.0\n",
       "1098222    0.0\n",
       "713403     0.0\n",
       "21838      1.0\n",
       "770828     0.0\n",
       "          ... \n",
       "153805     0.0\n",
       "909899     0.0\n",
       "872775     0.0\n",
       "573467     0.0\n",
       "365755     0.0\n",
       "213769     0.0\n",
       "677760     0.0\n",
       "655099     1.0\n",
       "1064721    0.0\n",
       "95556      0.0\n",
       "533059     0.0\n",
       "950503     0.0\n",
       "493288     0.0\n",
       "313445     0.0\n",
       "271992     0.0\n",
       "900645     0.0\n",
       "236628     1.0\n",
       "61910      0.0\n",
       "79360      0.0\n",
       "272875     1.0\n",
       "590295     0.0\n",
       "384877     0.0\n",
       "361680     0.0\n",
       "489098     0.0\n",
       "711324     0.0\n",
       "340714     0.0\n",
       "1006950    0.0\n",
       "306937     0.0\n",
       "926988     0.0\n",
       "79192      0.0\n",
       "Name: signal, Length: 842382, dtype: float64"
      ]
     },
     "execution_count": 29,
     "metadata": {},
     "output_type": "execute_result"
    }
   ],
   "source": [
    "yTrainTracks"
   ]
  },
  {
   "cell_type": "code",
   "execution_count": 32,
   "metadata": {
    "scrolled": true
   },
   "outputs": [
    {
     "data": {
      "image/png": "[encoded data removed]",
      "text/plain": [
       "<matplotlib.figure.Figure at 0x10fed9950>"
      ]
     },
     "metadata": {},
     "output_type": "display_data"
    },
    {
     "data": {
      "image/png": "[encoded data removed]",
      "text/plain": [
       "<matplotlib.figure.Figure at 0x107829290>"
      ]
     },
     "metadata": {},
     "output_type": "display_data"
    },
    {
     "data": {
      "image/png": "[encoded data removed]",
      "text/plain": [
       "<matplotlib.figure.Figure at 0x10de16850>"
      ]
     },
     "metadata": {},
     "output_type": "display_data"
    },
    {
     "data": {
      "image/png": "[encoded data removed]",
      "text/plain": [
       "<matplotlib.figure.Figure at 0x10f1889d0>"
      ]
     },
     "metadata": {},
     "output_type": "display_data"
    },
    {
     "data": {
      "image/png": "[encoded data removed]",
      "text/plain": [
       "<matplotlib.figure.Figure at 0x10dd74c10>"
      ]
     },
     "metadata": {},
     "output_type": "display_data"
    },
    {
     "ename": "KeyError",
     "evalue": "'chi2'",
     "output_type": "error",
     "traceback": [
      "\u001b[0;31m---------------------------------------------------------------------------\u001b[0m",
      "\u001b[0;31mKeyError\u001b[0m                                  Traceback (most recent call last)",
      "\u001b[0;32m<ipython-input-32-4de78defaa99>\u001b[0m in \u001b[0;36m<module>\u001b[0;34m()\u001b[0m\n\u001b[1;32m      6\u001b[0m         \u001b[0;32mif\u001b[0m \u001b[0;32mnot\u001b[0m \u001b[0mi\u001b[0m\u001b[0;34m:\u001b[0m\u001b[0;34m\u001b[0m\u001b[0m\n\u001b[1;32m      7\u001b[0m             \u001b[0max\u001b[0m\u001b[0;34m.\u001b[0m\u001b[0mset_title\u001b[0m\u001b[0;34m(\u001b[0m\u001b[0mprop\u001b[0m\u001b[0;34m)\u001b[0m\u001b[0;34m\u001b[0m\u001b[0m\n\u001b[0;32m----> 8\u001b[0;31m         \u001b[0max\u001b[0m\u001b[0;34m.\u001b[0m\u001b[0mhist\u001b[0m\u001b[0;34m(\u001b[0m\u001b[0mframe\u001b[0m\u001b[0;34m[\u001b[0m\u001b[0mprop\u001b[0m\u001b[0;34m]\u001b[0m\u001b[0;34m.\u001b[0m\u001b[0mvalues\u001b[0m\u001b[0;34m)\u001b[0m\u001b[0;34m\u001b[0m\u001b[0m\n\u001b[0m\u001b[1;32m      9\u001b[0m \u001b[0;34m\u001b[0m\u001b[0m\n\u001b[1;32m     10\u001b[0m     \u001b[0mplt\u001b[0m\u001b[0;34m.\u001b[0m\u001b[0mshow\u001b[0m\u001b[0;34m(\u001b[0m\u001b[0;34m)\u001b[0m\u001b[0;34m\u001b[0m\u001b[0m\n",
      "\u001b[0;32m/Users/re239/code/projects/mlhep/.env/lib/python2.7/site-packages/pandas/core/frame.pyc\u001b[0m in \u001b[0;36m__getitem__\u001b[0;34m(self, key)\u001b[0m\n\u001b[1;32m   1962\u001b[0m             \u001b[0;32mreturn\u001b[0m \u001b[0mself\u001b[0m\u001b[0;34m.\u001b[0m\u001b[0m_getitem_multilevel\u001b[0m\u001b[0;34m(\u001b[0m\u001b[0mkey\u001b[0m\u001b[0;34m)\u001b[0m\u001b[0;34m\u001b[0m\u001b[0m\n\u001b[1;32m   1963\u001b[0m         \u001b[0;32melse\u001b[0m\u001b[0;34m:\u001b[0m\u001b[0;34m\u001b[0m\u001b[0m\n\u001b[0;32m-> 1964\u001b[0;31m             \u001b[0;32mreturn\u001b[0m \u001b[0mself\u001b[0m\u001b[0;34m.\u001b[0m\u001b[0m_getitem_column\u001b[0m\u001b[0;34m(\u001b[0m\u001b[0mkey\u001b[0m\u001b[0;34m)\u001b[0m\u001b[0;34m\u001b[0m\u001b[0m\n\u001b[0m\u001b[1;32m   1965\u001b[0m \u001b[0;34m\u001b[0m\u001b[0m\n\u001b[1;32m   1966\u001b[0m     \u001b[0;32mdef\u001b[0m \u001b[0m_getitem_column\u001b[0m\u001b[0;34m(\u001b[0m\u001b[0mself\u001b[0m\u001b[0;34m,\u001b[0m \u001b[0mkey\u001b[0m\u001b[0;34m)\u001b[0m\u001b[0;34m:\u001b[0m\u001b[0;34m\u001b[0m\u001b[0m\n",
      "\u001b[0;32m/Users/re239/code/projects/mlhep/.env/lib/python2.7/site-packages/pandas/core/frame.pyc\u001b[0m in \u001b[0;36m_getitem_column\u001b[0;34m(self, key)\u001b[0m\n\u001b[1;32m   1969\u001b[0m         \u001b[0;31m# get column\u001b[0m\u001b[0;34m\u001b[0m\u001b[0;34m\u001b[0m\u001b[0m\n\u001b[1;32m   1970\u001b[0m         \u001b[0;32mif\u001b[0m \u001b[0mself\u001b[0m\u001b[0;34m.\u001b[0m\u001b[0mcolumns\u001b[0m\u001b[0;34m.\u001b[0m\u001b[0mis_unique\u001b[0m\u001b[0;34m:\u001b[0m\u001b[0;34m\u001b[0m\u001b[0m\n\u001b[0;32m-> 1971\u001b[0;31m             \u001b[0;32mreturn\u001b[0m \u001b[0mself\u001b[0m\u001b[0;34m.\u001b[0m\u001b[0m_get_item_cache\u001b[0m\u001b[0;34m(\u001b[0m\u001b[0mkey\u001b[0m\u001b[0;34m)\u001b[0m\u001b[0;34m\u001b[0m\u001b[0m\n\u001b[0m\u001b[1;32m   1972\u001b[0m \u001b[0;34m\u001b[0m\u001b[0m\n\u001b[1;32m   1973\u001b[0m         \u001b[0;31m# duplicate columns & possible reduce dimensionality\u001b[0m\u001b[0;34m\u001b[0m\u001b[0;34m\u001b[0m\u001b[0m\n",
      "\u001b[0;32m/Users/re239/code/projects/mlhep/.env/lib/python2.7/site-packages/pandas/core/generic.pyc\u001b[0m in \u001b[0;36m_get_item_cache\u001b[0;34m(self, item)\u001b[0m\n\u001b[1;32m   1643\u001b[0m         \u001b[0mres\u001b[0m \u001b[0;34m=\u001b[0m \u001b[0mcache\u001b[0m\u001b[0;34m.\u001b[0m\u001b[0mget\u001b[0m\u001b[0;34m(\u001b[0m\u001b[0mitem\u001b[0m\u001b[0;34m)\u001b[0m\u001b[0;34m\u001b[0m\u001b[0m\n\u001b[1;32m   1644\u001b[0m         \u001b[0;32mif\u001b[0m \u001b[0mres\u001b[0m \u001b[0;32mis\u001b[0m \u001b[0mNone\u001b[0m\u001b[0;34m:\u001b[0m\u001b[0;34m\u001b[0m\u001b[0m\n\u001b[0;32m-> 1645\u001b[0;31m             \u001b[0mvalues\u001b[0m \u001b[0;34m=\u001b[0m \u001b[0mself\u001b[0m\u001b[0;34m.\u001b[0m\u001b[0m_data\u001b[0m\u001b[0;34m.\u001b[0m\u001b[0mget\u001b[0m\u001b[0;34m(\u001b[0m\u001b[0mitem\u001b[0m\u001b[0;34m)\u001b[0m\u001b[0;34m\u001b[0m\u001b[0m\n\u001b[0m\u001b[1;32m   1646\u001b[0m             \u001b[0mres\u001b[0m \u001b[0;34m=\u001b[0m \u001b[0mself\u001b[0m\u001b[0;34m.\u001b[0m\u001b[0m_box_item_values\u001b[0m\u001b[0;34m(\u001b[0m\u001b[0mitem\u001b[0m\u001b[0;34m,\u001b[0m \u001b[0mvalues\u001b[0m\u001b[0;34m)\u001b[0m\u001b[0;34m\u001b[0m\u001b[0m\n\u001b[1;32m   1647\u001b[0m             \u001b[0mcache\u001b[0m\u001b[0;34m[\u001b[0m\u001b[0mitem\u001b[0m\u001b[0;34m]\u001b[0m \u001b[0;34m=\u001b[0m \u001b[0mres\u001b[0m\u001b[0;34m\u001b[0m\u001b[0m\n",
      "\u001b[0;32m/Users/re239/code/projects/mlhep/.env/lib/python2.7/site-packages/pandas/core/internals.pyc\u001b[0m in \u001b[0;36mget\u001b[0;34m(self, item, fastpath)\u001b[0m\n\u001b[1;32m   3588\u001b[0m \u001b[0;34m\u001b[0m\u001b[0m\n\u001b[1;32m   3589\u001b[0m             \u001b[0;32mif\u001b[0m \u001b[0;32mnot\u001b[0m \u001b[0misnull\u001b[0m\u001b[0;34m(\u001b[0m\u001b[0mitem\u001b[0m\u001b[0;34m)\u001b[0m\u001b[0;34m:\u001b[0m\u001b[0;34m\u001b[0m\u001b[0m\n\u001b[0;32m-> 3590\u001b[0;31m                 \u001b[0mloc\u001b[0m \u001b[0;34m=\u001b[0m \u001b[0mself\u001b[0m\u001b[0;34m.\u001b[0m\u001b[0mitems\u001b[0m\u001b[0;34m.\u001b[0m\u001b[0mget_loc\u001b[0m\u001b[0;34m(\u001b[0m\u001b[0mitem\u001b[0m\u001b[0;34m)\u001b[0m\u001b[0;34m\u001b[0m\u001b[0m\n\u001b[0m\u001b[1;32m   3591\u001b[0m             \u001b[0;32melse\u001b[0m\u001b[0;34m:\u001b[0m\u001b[0;34m\u001b[0m\u001b[0m\n\u001b[1;32m   3592\u001b[0m                 \u001b[0mindexer\u001b[0m \u001b[0;34m=\u001b[0m \u001b[0mnp\u001b[0m\u001b[0;34m.\u001b[0m\u001b[0marange\u001b[0m\u001b[0;34m(\u001b[0m\u001b[0mlen\u001b[0m\u001b[0;34m(\u001b[0m\u001b[0mself\u001b[0m\u001b[0;34m.\u001b[0m\u001b[0mitems\u001b[0m\u001b[0;34m)\u001b[0m\u001b[0;34m)\u001b[0m\u001b[0;34m[\u001b[0m\u001b[0misnull\u001b[0m\u001b[0;34m(\u001b[0m\u001b[0mself\u001b[0m\u001b[0;34m.\u001b[0m\u001b[0mitems\u001b[0m\u001b[0;34m)\u001b[0m\u001b[0;34m]\u001b[0m\u001b[0;34m\u001b[0m\u001b[0m\n",
      "\u001b[0;32m/Users/re239/code/projects/mlhep/.env/lib/python2.7/site-packages/pandas/core/indexes/base.pyc\u001b[0m in \u001b[0;36mget_loc\u001b[0;34m(self, key, method, tolerance)\u001b[0m\n\u001b[1;32m   2442\u001b[0m                 \u001b[0;32mreturn\u001b[0m \u001b[0mself\u001b[0m\u001b[0;34m.\u001b[0m\u001b[0m_engine\u001b[0m\u001b[0;34m.\u001b[0m\u001b[0mget_loc\u001b[0m\u001b[0;34m(\u001b[0m\u001b[0mkey\u001b[0m\u001b[0;34m)\u001b[0m\u001b[0;34m\u001b[0m\u001b[0m\n\u001b[1;32m   2443\u001b[0m             \u001b[0;32mexcept\u001b[0m \u001b[0mKeyError\u001b[0m\u001b[0;34m:\u001b[0m\u001b[0;34m\u001b[0m\u001b[0m\n\u001b[0;32m-> 2444\u001b[0;31m                 \u001b[0;32mreturn\u001b[0m \u001b[0mself\u001b[0m\u001b[0;34m.\u001b[0m\u001b[0m_engine\u001b[0m\u001b[0;34m.\u001b[0m\u001b[0mget_loc\u001b[0m\u001b[0;34m(\u001b[0m\u001b[0mself\u001b[0m\u001b[0;34m.\u001b[0m\u001b[0m_maybe_cast_indexer\u001b[0m\u001b[0;34m(\u001b[0m\u001b[0mkey\u001b[0m\u001b[0;34m)\u001b[0m\u001b[0;34m)\u001b[0m\u001b[0;34m\u001b[0m\u001b[0m\n\u001b[0m\u001b[1;32m   2445\u001b[0m \u001b[0;34m\u001b[0m\u001b[0m\n\u001b[1;32m   2446\u001b[0m         \u001b[0mindexer\u001b[0m \u001b[0;34m=\u001b[0m \u001b[0mself\u001b[0m\u001b[0;34m.\u001b[0m\u001b[0mget_indexer\u001b[0m\u001b[0;34m(\u001b[0m\u001b[0;34m[\u001b[0m\u001b[0mkey\u001b[0m\u001b[0;34m]\u001b[0m\u001b[0;34m,\u001b[0m \u001b[0mmethod\u001b[0m\u001b[0;34m=\u001b[0m\u001b[0mmethod\u001b[0m\u001b[0;34m,\u001b[0m \u001b[0mtolerance\u001b[0m\u001b[0;34m=\u001b[0m\u001b[0mtolerance\u001b[0m\u001b[0;34m)\u001b[0m\u001b[0;34m\u001b[0m\u001b[0m\n",
      "\u001b[0;32mpandas/_libs/index.pyx\u001b[0m in \u001b[0;36mpandas._libs.index.IndexEngine.get_loc (pandas/_libs/index.c:5280)\u001b[0;34m()\u001b[0m\n",
      "\u001b[0;32mpandas/_libs/index.pyx\u001b[0m in \u001b[0;36mpandas._libs.index.IndexEngine.get_loc (pandas/_libs/index.c:5126)\u001b[0;34m()\u001b[0m\n",
      "\u001b[0;32mpandas/_libs/hashtable_class_helper.pxi\u001b[0m in \u001b[0;36mpandas._libs.hashtable.PyObjectHashTable.get_item (pandas/_libs/hashtable.c:20523)\u001b[0;34m()\u001b[0m\n",
      "\u001b[0;32mpandas/_libs/hashtable_class_helper.pxi\u001b[0m in \u001b[0;36mpandas._libs.hashtable.PyObjectHashTable.get_item (pandas/_libs/hashtable.c:20477)\u001b[0;34m()\u001b[0m\n",
      "\u001b[0;31mKeyError\u001b[0m: 'chi2'"
     ]
    },
    {
     "data": {
      "image/png": "[encoded data removed]",
      "text/plain": [
       "<matplotlib.figure.Figure at 0x10dd742d0>"
      ]
     },
     "metadata": {},
     "output_type": "display_data"
    }
   ],
   "source": [
    "trainingSets = [xTrainTracks[yTrainTracks != 1], xTrainElectrons]\n",
    "#fig, axes = plt.subplot(2,1,2)\n",
    "for prop in featuresTracks:\n",
    "    for i, frame in enumerate(trainingSets):\n",
    "        ax = plt.subplot(2,1,i+1)\n",
    "        if not i:\n",
    "            ax.set_title(prop)\n",
    "        ax.hist(frame[prop].values)\n",
    "\n",
    "    plt.show()"
   ]
  },
  {
   "cell_type": "code",
   "execution_count": 15,
   "metadata": {},
   "outputs": [
    {
     "data": {
      "text/plain": [
       "(array([ 54.,  12.,   4.,   1.,   3.,   0.,   0.,   0.,   0.,   1.]),\n",
       " array([  1.01011121,   9.0688619 ,  17.12761259,  25.18636328,\n",
       "         33.24511397,  41.30386466,  49.36261535,  57.42136604,\n",
       "         65.48011672,  73.53886741,  81.5976181 ]),\n",
       " <a list of 10 Patch objects>)"
      ]
     },
     "execution_count": 15,
     "metadata": {},
     "output_type": "execute_result"
    },
    {
     "data": {
      "image/png": "[encoded data removed]",
      "text/plain": [
       "<matplotlib.figure.Figure at 0x10e232290>"
      ]
     },
     "metadata": {},
     "output_type": "display_data"
    }
   ],
   "source": [
    "plt.hist(xTrainElectrons[\"P\"])"
   ]
  },
  {
   "cell_type": "code",
   "execution_count": 17,
   "metadata": {},
   "outputs": [],
   "source": [
    "xTrainTracks[\"P\"] = xTrainElectrons[\"P\"]"
   ]
  },
  {
   "cell_type": "code",
   "execution_count": 25,
   "metadata": {},
   "outputs": [
    {
     "data": {
      "text/plain": [
       "57"
      ]
     },
     "execution_count": 25,
     "metadata": {},
     "output_type": "execute_result"
    }
   ],
   "source": [
    "import math\n",
    "xTrainTracks[\"P\"].count()"
   ]
  },
  {
   "cell_type": "code",
   "execution_count": 26,
   "metadata": {},
   "outputs": [
    {
     "data": {
      "text/plain": [
       "(75, 6)"
      ]
     },
     "execution_count": 26,
     "metadata": {},
     "output_type": "execute_result"
    }
   ],
   "source": [
    "xTrainElectrons.shape"
   ]
  },
  {
   "cell_type": "code",
   "execution_count": 31,
   "metadata": {},
   "outputs": [
    {
     "data": {
      "text/html": [
       "<div>\n",
       "<style>\n",
       "    .dataframe thead tr:only-child th {\n",
       "        text-align: right;\n",
       "    }\n",
       "\n",
       "    .dataframe thead th {\n",
       "        text-align: left;\n",
       "    }\n",
       "\n",
       "    .dataframe tbody tr th {\n",
       "        vertical-align: top;\n",
       "    }\n",
       "</style>\n",
       "<table border=\"1\" class=\"dataframe\">\n",
       "  <thead>\n",
       "    <tr style=\"text-align: right;\">\n",
       "      <th></th>\n",
       "      <th>X</th>\n",
       "      <th>Y</th>\n",
       "      <th>Z</th>\n",
       "      <th>TX</th>\n",
       "      <th>TY</th>\n",
       "      <th>chi2</th>\n",
       "      <th>P</th>\n",
       "    </tr>\n",
       "    <tr>\n",
       "      <th>index</th>\n",
       "      <th></th>\n",
       "      <th></th>\n",
       "      <th></th>\n",
       "      <th></th>\n",
       "      <th></th>\n",
       "      <th></th>\n",
       "      <th></th>\n",
       "    </tr>\n",
       "  </thead>\n",
       "  <tbody>\n",
       "    <tr>\n",
       "      <th>624146</th>\n",
       "      <td>54834.832031</td>\n",
       "      <td>50260.679688</td>\n",
       "      <td>54306.0</td>\n",
       "      <td>0.039342</td>\n",
       "      <td>0.039562</td>\n",
       "      <td>0.781064</td>\n",
       "      <td>NaN</td>\n",
       "    </tr>\n",
       "    <tr>\n",
       "      <th>402291</th>\n",
       "      <td>60852.867188</td>\n",
       "      <td>37871.910156</td>\n",
       "      <td>55599.0</td>\n",
       "      <td>0.143020</td>\n",
       "      <td>0.042664</td>\n",
       "      <td>0.564688</td>\n",
       "      <td>NaN</td>\n",
       "    </tr>\n",
       "    <tr>\n",
       "      <th>21838</th>\n",
       "      <td>43894.234375</td>\n",
       "      <td>15340.546875</td>\n",
       "      <td>69822.0</td>\n",
       "      <td>-0.594438</td>\n",
       "      <td>-0.064616</td>\n",
       "      <td>0.996084</td>\n",
       "      <td>NaN</td>\n",
       "    </tr>\n",
       "    <tr>\n",
       "      <th>693196</th>\n",
       "      <td>57667.414062</td>\n",
       "      <td>50974.593750</td>\n",
       "      <td>24567.0</td>\n",
       "      <td>-0.347535</td>\n",
       "      <td>0.490960</td>\n",
       "      <td>0.647699</td>\n",
       "      <td>NaN</td>\n",
       "    </tr>\n",
       "    <tr>\n",
       "      <th>215358</th>\n",
       "      <td>53785.890625</td>\n",
       "      <td>19551.615234</td>\n",
       "      <td>46548.0</td>\n",
       "      <td>0.132087</td>\n",
       "      <td>0.232515</td>\n",
       "      <td>0.965759</td>\n",
       "      <td>NaN</td>\n",
       "    </tr>\n",
       "    <tr>\n",
       "      <th>652713</th>\n",
       "      <td>61263.246094</td>\n",
       "      <td>52189.773438</td>\n",
       "      <td>24567.0</td>\n",
       "      <td>0.138890</td>\n",
       "      <td>0.051572</td>\n",
       "      <td>1.269191</td>\n",
       "      <td>NaN</td>\n",
       "    </tr>\n",
       "    <tr>\n",
       "      <th>475458</th>\n",
       "      <td>39318.554688</td>\n",
       "      <td>16165.250000</td>\n",
       "      <td>45255.0</td>\n",
       "      <td>-0.240588</td>\n",
       "      <td>-0.389528</td>\n",
       "      <td>0.936064</td>\n",
       "      <td>NaN</td>\n",
       "    </tr>\n",
       "    <tr>\n",
       "      <th>359058</th>\n",
       "      <td>54717.488281</td>\n",
       "      <td>46410.078125</td>\n",
       "      <td>23274.0</td>\n",
       "      <td>0.020512</td>\n",
       "      <td>0.084254</td>\n",
       "      <td>0.413600</td>\n",
       "      <td>NaN</td>\n",
       "    </tr>\n",
       "    <tr>\n",
       "      <th>24392</th>\n",
       "      <td>41364.175781</td>\n",
       "      <td>24279.328125</td>\n",
       "      <td>28446.0</td>\n",
       "      <td>-0.159459</td>\n",
       "      <td>0.217067</td>\n",
       "      <td>0.649982</td>\n",
       "      <td>NaN</td>\n",
       "    </tr>\n",
       "    <tr>\n",
       "      <th>326491</th>\n",
       "      <td>65446.968750</td>\n",
       "      <td>10914.968750</td>\n",
       "      <td>53013.0</td>\n",
       "      <td>0.184003</td>\n",
       "      <td>0.016941</td>\n",
       "      <td>1.352028</td>\n",
       "      <td>NaN</td>\n",
       "    </tr>\n",
       "    <tr>\n",
       "      <th>367439</th>\n",
       "      <td>50387.031250</td>\n",
       "      <td>17693.804688</td>\n",
       "      <td>21981.0</td>\n",
       "      <td>-0.095833</td>\n",
       "      <td>0.138091</td>\n",
       "      <td>0.660453</td>\n",
       "      <td>NaN</td>\n",
       "    </tr>\n",
       "    <tr>\n",
       "      <th>121253</th>\n",
       "      <td>49933.074219</td>\n",
       "      <td>46737.796875</td>\n",
       "      <td>43962.0</td>\n",
       "      <td>-0.530320</td>\n",
       "      <td>-0.570894</td>\n",
       "      <td>1.025824</td>\n",
       "      <td>NaN</td>\n",
       "    </tr>\n",
       "    <tr>\n",
       "      <th>73332</th>\n",
       "      <td>53053.296875</td>\n",
       "      <td>67933.546875</td>\n",
       "      <td>49134.0</td>\n",
       "      <td>-0.059966</td>\n",
       "      <td>0.055983</td>\n",
       "      <td>0.806486</td>\n",
       "      <td>NaN</td>\n",
       "    </tr>\n",
       "    <tr>\n",
       "      <th>456698</th>\n",
       "      <td>61253.207031</td>\n",
       "      <td>40343.023438</td>\n",
       "      <td>60771.0</td>\n",
       "      <td>0.073907</td>\n",
       "      <td>0.170457</td>\n",
       "      <td>0.197673</td>\n",
       "      <td>NaN</td>\n",
       "    </tr>\n",
       "    <tr>\n",
       "      <th>535174</th>\n",
       "      <td>60519.550781</td>\n",
       "      <td>19761.507812</td>\n",
       "      <td>67236.0</td>\n",
       "      <td>-0.341202</td>\n",
       "      <td>0.102302</td>\n",
       "      <td>1.049174</td>\n",
       "      <td>NaN</td>\n",
       "    </tr>\n",
       "    <tr>\n",
       "      <th>778458</th>\n",
       "      <td>54518.859375</td>\n",
       "      <td>20415.404297</td>\n",
       "      <td>62064.0</td>\n",
       "      <td>0.011891</td>\n",
       "      <td>0.080645</td>\n",
       "      <td>0.302474</td>\n",
       "      <td>NaN</td>\n",
       "    </tr>\n",
       "    <tr>\n",
       "      <th>439989</th>\n",
       "      <td>47039.320312</td>\n",
       "      <td>40877.015625</td>\n",
       "      <td>53013.0</td>\n",
       "      <td>-0.090299</td>\n",
       "      <td>-0.239662</td>\n",
       "      <td>0.606917</td>\n",
       "      <td>NaN</td>\n",
       "    </tr>\n",
       "    <tr>\n",
       "      <th>359918</th>\n",
       "      <td>64934.218750</td>\n",
       "      <td>10558.414062</td>\n",
       "      <td>32325.0</td>\n",
       "      <td>0.137365</td>\n",
       "      <td>0.163867</td>\n",
       "      <td>0.517410</td>\n",
       "      <td>NaN</td>\n",
       "    </tr>\n",
       "    <tr>\n",
       "      <th>1001079</th>\n",
       "      <td>59585.406250</td>\n",
       "      <td>63483.859375</td>\n",
       "      <td>60771.0</td>\n",
       "      <td>-0.064365</td>\n",
       "      <td>-0.018169</td>\n",
       "      <td>1.255871</td>\n",
       "      <td>NaN</td>\n",
       "    </tr>\n",
       "    <tr>\n",
       "      <th>537108</th>\n",
       "      <td>40562.757812</td>\n",
       "      <td>40882.066406</td>\n",
       "      <td>33618.0</td>\n",
       "      <td>-0.228097</td>\n",
       "      <td>0.193829</td>\n",
       "      <td>0.598716</td>\n",
       "      <td>NaN</td>\n",
       "    </tr>\n",
       "    <tr>\n",
       "      <th>934551</th>\n",
       "      <td>61510.691406</td>\n",
       "      <td>38341.222656</td>\n",
       "      <td>68529.0</td>\n",
       "      <td>0.028274</td>\n",
       "      <td>0.004315</td>\n",
       "      <td>1.134715</td>\n",
       "      <td>NaN</td>\n",
       "    </tr>\n",
       "    <tr>\n",
       "      <th>733029</th>\n",
       "      <td>52438.007812</td>\n",
       "      <td>54747.093750</td>\n",
       "      <td>40083.0</td>\n",
       "      <td>0.359421</td>\n",
       "      <td>-0.133482</td>\n",
       "      <td>1.181634</td>\n",
       "      <td>NaN</td>\n",
       "    </tr>\n",
       "    <tr>\n",
       "      <th>218029</th>\n",
       "      <td>65250.851562</td>\n",
       "      <td>10633.054688</td>\n",
       "      <td>33618.0</td>\n",
       "      <td>-0.013895</td>\n",
       "      <td>0.145154</td>\n",
       "      <td>0.642693</td>\n",
       "      <td>NaN</td>\n",
       "    </tr>\n",
       "    <tr>\n",
       "      <th>344570</th>\n",
       "      <td>60524.718750</td>\n",
       "      <td>38207.328125</td>\n",
       "      <td>62064.0</td>\n",
       "      <td>0.066769</td>\n",
       "      <td>0.030027</td>\n",
       "      <td>0.340540</td>\n",
       "      <td>NaN</td>\n",
       "    </tr>\n",
       "    <tr>\n",
       "      <th>52217</th>\n",
       "      <td>48639.199219</td>\n",
       "      <td>22452.451172</td>\n",
       "      <td>47841.0</td>\n",
       "      <td>-0.055794</td>\n",
       "      <td>0.195215</td>\n",
       "      <td>0.439425</td>\n",
       "      <td>NaN</td>\n",
       "    </tr>\n",
       "    <tr>\n",
       "      <th>27098</th>\n",
       "      <td>36159.183594</td>\n",
       "      <td>52078.320312</td>\n",
       "      <td>64650.0</td>\n",
       "      <td>0.153520</td>\n",
       "      <td>-0.109914</td>\n",
       "      <td>0.969219</td>\n",
       "      <td>NaN</td>\n",
       "    </tr>\n",
       "    <tr>\n",
       "      <th>36077</th>\n",
       "      <td>50602.679688</td>\n",
       "      <td>54086.160156</td>\n",
       "      <td>45255.0</td>\n",
       "      <td>-0.039267</td>\n",
       "      <td>0.156882</td>\n",
       "      <td>0.796041</td>\n",
       "      <td>NaN</td>\n",
       "    </tr>\n",
       "    <tr>\n",
       "      <th>1106636</th>\n",
       "      <td>51344.902344</td>\n",
       "      <td>54904.941406</td>\n",
       "      <td>28446.0</td>\n",
       "      <td>0.009989</td>\n",
       "      <td>0.068945</td>\n",
       "      <td>0.867934</td>\n",
       "      <td>NaN</td>\n",
       "    </tr>\n",
       "    <tr>\n",
       "      <th>571140</th>\n",
       "      <td>52186.363281</td>\n",
       "      <td>49489.867188</td>\n",
       "      <td>41376.0</td>\n",
       "      <td>0.033575</td>\n",
       "      <td>0.003013</td>\n",
       "      <td>1.549542</td>\n",
       "      <td>NaN</td>\n",
       "    </tr>\n",
       "    <tr>\n",
       "      <th>69494</th>\n",
       "      <td>63680.074219</td>\n",
       "      <td>14089.515625</td>\n",
       "      <td>32325.0</td>\n",
       "      <td>0.043583</td>\n",
       "      <td>0.137081</td>\n",
       "      <td>0.771623</td>\n",
       "      <td>NaN</td>\n",
       "    </tr>\n",
       "    <tr>\n",
       "      <th>...</th>\n",
       "      <td>...</td>\n",
       "      <td>...</td>\n",
       "      <td>...</td>\n",
       "      <td>...</td>\n",
       "      <td>...</td>\n",
       "      <td>...</td>\n",
       "      <td>...</td>\n",
       "    </tr>\n",
       "    <tr>\n",
       "      <th>790885</th>\n",
       "      <td>37742.335938</td>\n",
       "      <td>37746.812500</td>\n",
       "      <td>68529.0</td>\n",
       "      <td>-0.292904</td>\n",
       "      <td>-0.001981</td>\n",
       "      <td>1.413873</td>\n",
       "      <td>NaN</td>\n",
       "    </tr>\n",
       "    <tr>\n",
       "      <th>858046</th>\n",
       "      <td>38451.808594</td>\n",
       "      <td>37929.222656</td>\n",
       "      <td>43962.0</td>\n",
       "      <td>-0.102632</td>\n",
       "      <td>0.272326</td>\n",
       "      <td>1.098588</td>\n",
       "      <td>NaN</td>\n",
       "    </tr>\n",
       "    <tr>\n",
       "      <th>829838</th>\n",
       "      <td>48188.792969</td>\n",
       "      <td>15095.117188</td>\n",
       "      <td>45255.0</td>\n",
       "      <td>-0.003664</td>\n",
       "      <td>0.128399</td>\n",
       "      <td>0.559736</td>\n",
       "      <td>NaN</td>\n",
       "    </tr>\n",
       "    <tr>\n",
       "      <th>691341</th>\n",
       "      <td>64793.550781</td>\n",
       "      <td>62711.644531</td>\n",
       "      <td>40083.0</td>\n",
       "      <td>-0.405966</td>\n",
       "      <td>0.017155</td>\n",
       "      <td>0.644953</td>\n",
       "      <td>NaN</td>\n",
       "    </tr>\n",
       "    <tr>\n",
       "      <th>47510</th>\n",
       "      <td>60635.546875</td>\n",
       "      <td>37766.101562</td>\n",
       "      <td>67236.0</td>\n",
       "      <td>0.120564</td>\n",
       "      <td>-0.342973</td>\n",
       "      <td>1.630144</td>\n",
       "      <td>NaN</td>\n",
       "    </tr>\n",
       "    <tr>\n",
       "      <th>244778</th>\n",
       "      <td>60229.390625</td>\n",
       "      <td>37876.476562</td>\n",
       "      <td>54306.0</td>\n",
       "      <td>-0.145964</td>\n",
       "      <td>-0.061454</td>\n",
       "      <td>0.441343</td>\n",
       "      <td>NaN</td>\n",
       "    </tr>\n",
       "    <tr>\n",
       "      <th>130096</th>\n",
       "      <td>53210.171875</td>\n",
       "      <td>19244.691406</td>\n",
       "      <td>68529.0</td>\n",
       "      <td>-0.053516</td>\n",
       "      <td>0.065351</td>\n",
       "      <td>0.941749</td>\n",
       "      <td>NaN</td>\n",
       "    </tr>\n",
       "    <tr>\n",
       "      <th>452169</th>\n",
       "      <td>66011.640625</td>\n",
       "      <td>62970.597656</td>\n",
       "      <td>42669.0</td>\n",
       "      <td>0.237337</td>\n",
       "      <td>-0.146629</td>\n",
       "      <td>0.506951</td>\n",
       "      <td>NaN</td>\n",
       "    </tr>\n",
       "    <tr>\n",
       "      <th>566103</th>\n",
       "      <td>59757.613281</td>\n",
       "      <td>59709.390625</td>\n",
       "      <td>33618.0</td>\n",
       "      <td>-0.134659</td>\n",
       "      <td>-0.994772</td>\n",
       "      <td>1.686423</td>\n",
       "      <td>NaN</td>\n",
       "    </tr>\n",
       "    <tr>\n",
       "      <th>929199</th>\n",
       "      <td>60269.140625</td>\n",
       "      <td>37518.339844</td>\n",
       "      <td>45255.0</td>\n",
       "      <td>0.064681</td>\n",
       "      <td>0.118903</td>\n",
       "      <td>0.438258</td>\n",
       "      <td>NaN</td>\n",
       "    </tr>\n",
       "    <tr>\n",
       "      <th>178532</th>\n",
       "      <td>38450.351562</td>\n",
       "      <td>21720.357422</td>\n",
       "      <td>46548.0</td>\n",
       "      <td>-0.280339</td>\n",
       "      <td>-0.158803</td>\n",
       "      <td>1.019293</td>\n",
       "      <td>NaN</td>\n",
       "    </tr>\n",
       "    <tr>\n",
       "      <th>1052579</th>\n",
       "      <td>46816.226562</td>\n",
       "      <td>43726.808594</td>\n",
       "      <td>67236.0</td>\n",
       "      <td>-0.096415</td>\n",
       "      <td>0.013542</td>\n",
       "      <td>0.980588</td>\n",
       "      <td>NaN</td>\n",
       "    </tr>\n",
       "    <tr>\n",
       "      <th>599123</th>\n",
       "      <td>47731.398438</td>\n",
       "      <td>52474.593750</td>\n",
       "      <td>21981.0</td>\n",
       "      <td>0.001618</td>\n",
       "      <td>0.035686</td>\n",
       "      <td>0.591205</td>\n",
       "      <td>NaN</td>\n",
       "    </tr>\n",
       "    <tr>\n",
       "      <th>732401</th>\n",
       "      <td>53162.875000</td>\n",
       "      <td>53031.703125</td>\n",
       "      <td>21981.0</td>\n",
       "      <td>-0.543499</td>\n",
       "      <td>0.545438</td>\n",
       "      <td>1.203429</td>\n",
       "      <td>NaN</td>\n",
       "    </tr>\n",
       "    <tr>\n",
       "      <th>308098</th>\n",
       "      <td>66023.523438</td>\n",
       "      <td>23069.882812</td>\n",
       "      <td>55599.0</td>\n",
       "      <td>-0.072703</td>\n",
       "      <td>0.246922</td>\n",
       "      <td>1.148239</td>\n",
       "      <td>NaN</td>\n",
       "    </tr>\n",
       "    <tr>\n",
       "      <th>766418</th>\n",
       "      <td>54461.867188</td>\n",
       "      <td>40933.382812</td>\n",
       "      <td>40083.0</td>\n",
       "      <td>-0.110352</td>\n",
       "      <td>0.264169</td>\n",
       "      <td>0.738693</td>\n",
       "      <td>NaN</td>\n",
       "    </tr>\n",
       "    <tr>\n",
       "      <th>735304</th>\n",
       "      <td>50408.718750</td>\n",
       "      <td>46802.484375</td>\n",
       "      <td>60771.0</td>\n",
       "      <td>0.337719</td>\n",
       "      <td>-0.634524</td>\n",
       "      <td>1.223967</td>\n",
       "      <td>NaN</td>\n",
       "    </tr>\n",
       "    <tr>\n",
       "      <th>779943</th>\n",
       "      <td>60083.441406</td>\n",
       "      <td>37778.765625</td>\n",
       "      <td>47841.0</td>\n",
       "      <td>0.011463</td>\n",
       "      <td>0.028855</td>\n",
       "      <td>1.036863</td>\n",
       "      <td>NaN</td>\n",
       "    </tr>\n",
       "    <tr>\n",
       "      <th>132356</th>\n",
       "      <td>50446.996094</td>\n",
       "      <td>50260.074219</td>\n",
       "      <td>37497.0</td>\n",
       "      <td>0.426493</td>\n",
       "      <td>-0.468920</td>\n",
       "      <td>1.133675</td>\n",
       "      <td>NaN</td>\n",
       "    </tr>\n",
       "    <tr>\n",
       "      <th>899064</th>\n",
       "      <td>48826.984375</td>\n",
       "      <td>44144.453125</td>\n",
       "      <td>68529.0</td>\n",
       "      <td>-0.141722</td>\n",
       "      <td>-0.117090</td>\n",
       "      <td>0.556493</td>\n",
       "      <td>NaN</td>\n",
       "    </tr>\n",
       "    <tr>\n",
       "      <th>945918</th>\n",
       "      <td>53945.007812</td>\n",
       "      <td>19694.113281</td>\n",
       "      <td>53013.0</td>\n",
       "      <td>-0.155483</td>\n",
       "      <td>0.249456</td>\n",
       "      <td>1.520741</td>\n",
       "      <td>NaN</td>\n",
       "    </tr>\n",
       "    <tr>\n",
       "      <th>885090</th>\n",
       "      <td>59876.121094</td>\n",
       "      <td>20207.546875</td>\n",
       "      <td>45255.0</td>\n",
       "      <td>-0.070768</td>\n",
       "      <td>0.091774</td>\n",
       "      <td>1.037964</td>\n",
       "      <td>NaN</td>\n",
       "    </tr>\n",
       "    <tr>\n",
       "      <th>569222</th>\n",
       "      <td>40750.847656</td>\n",
       "      <td>38449.808594</td>\n",
       "      <td>45255.0</td>\n",
       "      <td>-0.391248</td>\n",
       "      <td>-0.538495</td>\n",
       "      <td>1.229825</td>\n",
       "      <td>NaN</td>\n",
       "    </tr>\n",
       "    <tr>\n",
       "      <th>617179</th>\n",
       "      <td>40121.457031</td>\n",
       "      <td>35041.937500</td>\n",
       "      <td>51720.0</td>\n",
       "      <td>0.035412</td>\n",
       "      <td>0.968703</td>\n",
       "      <td>0.579826</td>\n",
       "      <td>NaN</td>\n",
       "    </tr>\n",
       "    <tr>\n",
       "      <th>721981</th>\n",
       "      <td>55627.000000</td>\n",
       "      <td>21008.447266</td>\n",
       "      <td>63357.0</td>\n",
       "      <td>0.613123</td>\n",
       "      <td>0.254288</td>\n",
       "      <td>0.801964</td>\n",
       "      <td>NaN</td>\n",
       "    </tr>\n",
       "    <tr>\n",
       "      <th>583837</th>\n",
       "      <td>39156.812500</td>\n",
       "      <td>20319.042969</td>\n",
       "      <td>38790.0</td>\n",
       "      <td>0.010417</td>\n",
       "      <td>0.334226</td>\n",
       "      <td>1.067966</td>\n",
       "      <td>NaN</td>\n",
       "    </tr>\n",
       "    <tr>\n",
       "      <th>742107</th>\n",
       "      <td>64975.597656</td>\n",
       "      <td>23901.380859</td>\n",
       "      <td>49134.0</td>\n",
       "      <td>0.137672</td>\n",
       "      <td>-0.759598</td>\n",
       "      <td>2.397296</td>\n",
       "      <td>NaN</td>\n",
       "    </tr>\n",
       "    <tr>\n",
       "      <th>655099</th>\n",
       "      <td>47583.855469</td>\n",
       "      <td>54540.667969</td>\n",
       "      <td>62064.0</td>\n",
       "      <td>0.000047</td>\n",
       "      <td>0.063974</td>\n",
       "      <td>1.094073</td>\n",
       "      <td>NaN</td>\n",
       "    </tr>\n",
       "    <tr>\n",
       "      <th>236628</th>\n",
       "      <td>60599.890625</td>\n",
       "      <td>61040.906250</td>\n",
       "      <td>20688.0</td>\n",
       "      <td>-0.115397</td>\n",
       "      <td>-0.071284</td>\n",
       "      <td>0.475297</td>\n",
       "      <td>NaN</td>\n",
       "    </tr>\n",
       "    <tr>\n",
       "      <th>272875</th>\n",
       "      <td>53306.082031</td>\n",
       "      <td>62653.246094</td>\n",
       "      <td>64650.0</td>\n",
       "      <td>0.229488</td>\n",
       "      <td>-0.252302</td>\n",
       "      <td>0.667868</td>\n",
       "      <td>NaN</td>\n",
       "    </tr>\n",
       "  </tbody>\n",
       "</table>\n",
       "<p>38287 rows × 7 columns</p>\n",
       "</div>"
      ],
      "text/plain": [
       "                    X             Y        Z        TX        TY      chi2   P\n",
       "index                                                                         \n",
       "624146   54834.832031  50260.679688  54306.0  0.039342  0.039562  0.781064 NaN\n",
       "402291   60852.867188  37871.910156  55599.0  0.143020  0.042664  0.564688 NaN\n",
       "21838    43894.234375  15340.546875  69822.0 -0.594438 -0.064616  0.996084 NaN\n",
       "693196   57667.414062  50974.593750  24567.0 -0.347535  0.490960  0.647699 NaN\n",
       "215358   53785.890625  19551.615234  46548.0  0.132087  0.232515  0.965759 NaN\n",
       "652713   61263.246094  52189.773438  24567.0  0.138890  0.051572  1.269191 NaN\n",
       "475458   39318.554688  16165.250000  45255.0 -0.240588 -0.389528  0.936064 NaN\n",
       "359058   54717.488281  46410.078125  23274.0  0.020512  0.084254  0.413600 NaN\n",
       "24392    41364.175781  24279.328125  28446.0 -0.159459  0.217067  0.649982 NaN\n",
       "326491   65446.968750  10914.968750  53013.0  0.184003  0.016941  1.352028 NaN\n",
       "367439   50387.031250  17693.804688  21981.0 -0.095833  0.138091  0.660453 NaN\n",
       "121253   49933.074219  46737.796875  43962.0 -0.530320 -0.570894  1.025824 NaN\n",
       "73332    53053.296875  67933.546875  49134.0 -0.059966  0.055983  0.806486 NaN\n",
       "456698   61253.207031  40343.023438  60771.0  0.073907  0.170457  0.197673 NaN\n",
       "535174   60519.550781  19761.507812  67236.0 -0.341202  0.102302  1.049174 NaN\n",
       "778458   54518.859375  20415.404297  62064.0  0.011891  0.080645  0.302474 NaN\n",
       "439989   47039.320312  40877.015625  53013.0 -0.090299 -0.239662  0.606917 NaN\n",
       "359918   64934.218750  10558.414062  32325.0  0.137365  0.163867  0.517410 NaN\n",
       "1001079  59585.406250  63483.859375  60771.0 -0.064365 -0.018169  1.255871 NaN\n",
       "537108   40562.757812  40882.066406  33618.0 -0.228097  0.193829  0.598716 NaN\n",
       "934551   61510.691406  38341.222656  68529.0  0.028274  0.004315  1.134715 NaN\n",
       "733029   52438.007812  54747.093750  40083.0  0.359421 -0.133482  1.181634 NaN\n",
       "218029   65250.851562  10633.054688  33618.0 -0.013895  0.145154  0.642693 NaN\n",
       "344570   60524.718750  38207.328125  62064.0  0.066769  0.030027  0.340540 NaN\n",
       "52217    48639.199219  22452.451172  47841.0 -0.055794  0.195215  0.439425 NaN\n",
       "27098    36159.183594  52078.320312  64650.0  0.153520 -0.109914  0.969219 NaN\n",
       "36077    50602.679688  54086.160156  45255.0 -0.039267  0.156882  0.796041 NaN\n",
       "1106636  51344.902344  54904.941406  28446.0  0.009989  0.068945  0.867934 NaN\n",
       "571140   52186.363281  49489.867188  41376.0  0.033575  0.003013  1.549542 NaN\n",
       "69494    63680.074219  14089.515625  32325.0  0.043583  0.137081  0.771623 NaN\n",
       "...               ...           ...      ...       ...       ...       ...  ..\n",
       "790885   37742.335938  37746.812500  68529.0 -0.292904 -0.001981  1.413873 NaN\n",
       "858046   38451.808594  37929.222656  43962.0 -0.102632  0.272326  1.098588 NaN\n",
       "829838   48188.792969  15095.117188  45255.0 -0.003664  0.128399  0.559736 NaN\n",
       "691341   64793.550781  62711.644531  40083.0 -0.405966  0.017155  0.644953 NaN\n",
       "47510    60635.546875  37766.101562  67236.0  0.120564 -0.342973  1.630144 NaN\n",
       "244778   60229.390625  37876.476562  54306.0 -0.145964 -0.061454  0.441343 NaN\n",
       "130096   53210.171875  19244.691406  68529.0 -0.053516  0.065351  0.941749 NaN\n",
       "452169   66011.640625  62970.597656  42669.0  0.237337 -0.146629  0.506951 NaN\n",
       "566103   59757.613281  59709.390625  33618.0 -0.134659 -0.994772  1.686423 NaN\n",
       "929199   60269.140625  37518.339844  45255.0  0.064681  0.118903  0.438258 NaN\n",
       "178532   38450.351562  21720.357422  46548.0 -0.280339 -0.158803  1.019293 NaN\n",
       "1052579  46816.226562  43726.808594  67236.0 -0.096415  0.013542  0.980588 NaN\n",
       "599123   47731.398438  52474.593750  21981.0  0.001618  0.035686  0.591205 NaN\n",
       "732401   53162.875000  53031.703125  21981.0 -0.543499  0.545438  1.203429 NaN\n",
       "308098   66023.523438  23069.882812  55599.0 -0.072703  0.246922  1.148239 NaN\n",
       "766418   54461.867188  40933.382812  40083.0 -0.110352  0.264169  0.738693 NaN\n",
       "735304   50408.718750  46802.484375  60771.0  0.337719 -0.634524  1.223967 NaN\n",
       "779943   60083.441406  37778.765625  47841.0  0.011463  0.028855  1.036863 NaN\n",
       "132356   50446.996094  50260.074219  37497.0  0.426493 -0.468920  1.133675 NaN\n",
       "899064   48826.984375  44144.453125  68529.0 -0.141722 -0.117090  0.556493 NaN\n",
       "945918   53945.007812  19694.113281  53013.0 -0.155483  0.249456  1.520741 NaN\n",
       "885090   59876.121094  20207.546875  45255.0 -0.070768  0.091774  1.037964 NaN\n",
       "569222   40750.847656  38449.808594  45255.0 -0.391248 -0.538495  1.229825 NaN\n",
       "617179   40121.457031  35041.937500  51720.0  0.035412  0.968703  0.579826 NaN\n",
       "721981   55627.000000  21008.447266  63357.0  0.613123  0.254288  0.801964 NaN\n",
       "583837   39156.812500  20319.042969  38790.0  0.010417  0.334226  1.067966 NaN\n",
       "742107   64975.597656  23901.380859  49134.0  0.137672 -0.759598  2.397296 NaN\n",
       "655099   47583.855469  54540.667969  62064.0  0.000047  0.063974  1.094073 NaN\n",
       "236628   60599.890625  61040.906250  20688.0 -0.115397 -0.071284  0.475297 NaN\n",
       "272875   53306.082031  62653.246094  64650.0  0.229488 -0.252302  0.667868 NaN\n",
       "\n",
       "[38287 rows x 7 columns]"
      ]
     },
     "execution_count": 31,
     "metadata": {},
     "output_type": "execute_result"
    }
   ],
   "source": [
    "xTrainTracks[yTrainTracks == 1]"
   ]
  },
  {
   "cell_type": "markdown",
   "metadata": {},
   "source": [
    "## Machine learning"
   ]
  },
  {
   "cell_type": "code",
   "execution_count": 33,
   "metadata": {
    "collapsed": true
   },
   "outputs": [],
   "source": [
    "import xgboost\n",
    "from sklearn.ensemble import RandomForestClassifier"
   ]
  },
  {
   "cell_type": "code",
   "execution_count": 38,
   "metadata": {
    "collapsed": true
   },
   "outputs": [],
   "source": [
    "models = [xgboost.XGBClassifier(n_jobs=-1, n_estimators=100),\n",
    "          RandomForestClassifier(n_jobs=-1, n_estimators=100),\n",
    "          RandomForestClassifier(n_jobs=-1, n_estimators=100, max_depth=10)\n",
    "          ]"
   ]
  },
  {
   "cell_type": "code",
   "execution_count": 40,
   "metadata": {
    "collapsed": true
   },
   "outputs": [],
   "source": [
    "from sklearn.metrics import roc_auc_score"
   ]
  },
  {
   "cell_type": "code",
   "execution_count": 39,
   "metadata": {
    "scrolled": false
   },
   "outputs": [
    {
     "name": "stdout",
     "output_type": "stream",
     "text": [
      "('Model = ', XGBClassifier(base_score=0.5, booster='gbtree', colsample_bylevel=1,\n",
      "       colsample_bytree=1, gamma=0, learning_rate=0.1, max_delta_step=0,\n",
      "       max_depth=3, min_child_weight=1, missing=None, n_estimators=100,\n",
      "       n_jobs=-1, nthread=None, objective='binary:logistic',\n",
      "       random_state=0, reg_alpha=0, reg_lambda=1, scale_pos_weight=1,\n",
      "       seed=None, silent=True, subsample=1))\n"
     ]
    },
    {
     "ename": "NameError",
     "evalue": "name 'roc_auc_score' is not defined",
     "output_type": "error",
     "traceback": [
      "\u001b[0;31m---------------------------------------------------------------------------\u001b[0m",
      "\u001b[0;31mNameError\u001b[0m                                 Traceback (most recent call last)",
      "\u001b[0;32m<ipython-input-39-318272315f97>\u001b[0m in \u001b[0;36m<module>\u001b[0;34m()\u001b[0m\n\u001b[1;32m      4\u001b[0m \u001b[0;32mfor\u001b[0m \u001b[0mmodel\u001b[0m \u001b[0;32min\u001b[0m \u001b[0mmodels\u001b[0m\u001b[0;34m:\u001b[0m\u001b[0;34m\u001b[0m\u001b[0m\n\u001b[1;32m      5\u001b[0m     \u001b[0;32mprint\u001b[0m\u001b[0;34m(\u001b[0m\u001b[0;34m\"Model = \"\u001b[0m\u001b[0;34m,\u001b[0m\u001b[0mmodel\u001b[0m\u001b[0;34m)\u001b[0m\u001b[0;34m\u001b[0m\u001b[0m\n\u001b[0;32m----> 6\u001b[0;31m     \u001b[0;32mprint\u001b[0m\u001b[0;34m(\u001b[0m\u001b[0;34m\"AUC = \"\u001b[0m\u001b[0;34m,\u001b[0m\u001b[0mroc_auc_score\u001b[0m\u001b[0;34m(\u001b[0m\u001b[0mtest\u001b[0m\u001b[0;34m.\u001b[0m\u001b[0msignal\u001b[0m\u001b[0;34m,\u001b[0m \u001b[0mmodel\u001b[0m\u001b[0;34m.\u001b[0m\u001b[0mpredict_proba\u001b[0m\u001b[0;34m(\u001b[0m\u001b[0mxTrainTracks\u001b[0m\u001b[0;34m)\u001b[0m\u001b[0;34m[\u001b[0m\u001b[0;34m:\u001b[0m\u001b[0;34m,\u001b[0m \u001b[0;36m1\u001b[0m\u001b[0;34m]\u001b[0m\u001b[0;34m)\u001b[0m\u001b[0;34m)\u001b[0m\u001b[0;34m\u001b[0m\u001b[0m\n\u001b[0m",
      "\u001b[0;31mNameError\u001b[0m: name 'roc_auc_score' is not defined"
     ]
    }
   ],
   "source": [
    "for model in models:\n",
    "    model.fit(xTrainTracks, yTrainTracks)"
   ]
  },
  {
   "cell_type": "code",
   "execution_count": 43,
   "metadata": {},
   "outputs": [
    {
     "name": "stdout",
     "output_type": "stream",
     "text": [
      "('Model = ', XGBClassifier(base_score=0.5, booster='gbtree', colsample_bylevel=1,\n",
      "       colsample_bytree=1, gamma=0, learning_rate=0.1, max_delta_step=0,\n",
      "       max_depth=3, min_child_weight=1, missing=None, n_estimators=100,\n",
      "       n_jobs=-1, nthread=None, objective='binary:logistic',\n",
      "       random_state=0, reg_alpha=0, reg_lambda=1, scale_pos_weight=1,\n",
      "       seed=None, silent=True, subsample=1))\n",
      "('AUC = ', 0.9601160249117966)\n",
      "('Model = ', RandomForestClassifier(bootstrap=True, class_weight=None, criterion='gini',\n",
      "            max_depth=None, max_features='auto', max_leaf_nodes=None,\n",
      "            min_impurity_split=1e-07, min_samples_leaf=1,\n",
      "            min_samples_split=2, min_weight_fraction_leaf=0.0,\n",
      "            n_estimators=100, n_jobs=-1, oob_score=False,\n",
      "            random_state=None, verbose=0, warm_start=False))\n",
      "('AUC = ', 0.9666353099250149)\n",
      "('Model = ', RandomForestClassifier(bootstrap=True, class_weight=None, criterion='gini',\n",
      "            max_depth=10, max_features='auto', max_leaf_nodes=None,\n",
      "            min_impurity_split=1e-07, min_samples_leaf=1,\n",
      "            min_samples_split=2, min_weight_fraction_leaf=0.0,\n",
      "            n_estimators=100, n_jobs=-1, oob_score=False,\n",
      "            random_state=None, verbose=0, warm_start=False))\n",
      "('AUC = ', 0.95426457585955504)\n"
     ]
    }
   ],
   "source": [
    "for model in models:\n",
    "    print(\"Model = \",model)\n",
    "    print(\"AUC = \",roc_auc_score(yTestTracks, model.predict_proba(xTestTracks)[:, 1]))"
   ]
  },
  {
   "cell_type": "code",
   "execution_count": 44,
   "metadata": {
    "collapsed": true
   },
   "outputs": [],
   "source": [
    "def predict_weighted(models, X, weights):\n",
    "    \"\"\"\n",
    "    Voting classifier that works by averaging predicted probabilities among models.\n",
    "    Note: you can use np.average(...,weights=weights) to get weighted average (or do it manually)\n",
    "    \"\"\"\n",
    "    preds = []\n",
    "    for model in models:\n",
    "        preds.append(model.predict_proba(X))\n",
    "    \n",
    "    #return <your code: array of averaged probabilities>\n",
    "    return np.average(preds, weights=weights, axis=0)"
   ]
  },
  {
   "cell_type": "code",
   "execution_count": 46,
   "metadata": {},
   "outputs": [],
   "source": [
    "weights = []\n",
    "for model in models:\n",
    "    weight = roc_auc_score(yTestTracks, model.predict_proba(xTestTracks)[:,1])\n",
    "    # Remove value that all will have (ie area=0.5) to normalize\n",
    "    weight = weight - 0.5\n",
    "    # Now normalize by factor of 2, such current range is (0,0.5)\n",
    "    weight = weight*2\n",
    "    weights.append(weight)"
   ]
  },
  {
   "cell_type": "code",
   "execution_count": 48,
   "metadata": {
    "scrolled": true
   },
   "outputs": [
    {
     "data": {
      "text/plain": [
       "[0.92023204982359319, 0.93327061985002979, 0.90852915171911008]"
      ]
     },
     "execution_count": 48,
     "metadata": {},
     "output_type": "execute_result"
    }
   ],
   "source": [
    "weights"
   ]
  },
  {
   "cell_type": "code",
   "execution_count": 50,
   "metadata": {
    "scrolled": true
   },
   "outputs": [
    {
     "data": {
      "text/plain": [
       "0.967204889883022"
      ]
     },
     "execution_count": 50,
     "metadata": {},
     "output_type": "execute_result"
    }
   ],
   "source": [
    "roc_auc_score(yTestTracks,predict_weighted(models, xTestTracks, weights)[:,1])"
   ]
  },
  {
   "cell_type": "markdown",
   "metadata": {},
   "source": [
    "## Stacking"
   ]
  },
  {
   "cell_type": "code",
   "execution_count": 58,
   "metadata": {
    "scrolled": false
   },
   "outputs": [
    {
     "data": {
      "text/plain": [
       "array([[ 0.00799485,  0.01      ,  0.02240203],\n",
       "       [ 0.00778132,  0.        ,  0.00175227],\n",
       "       [ 0.0199698 ,  0.02      ,  0.0105447 ],\n",
       "       ..., \n",
       "       [ 0.01421358,  0.11      ,  0.00953373],\n",
       "       [ 0.0092224 ,  0.        ,  0.00953713],\n",
       "       [ 0.01825732,  0.03      ,  0.01736769]])"
      ]
     },
     "execution_count": 58,
     "metadata": {},
     "output_type": "execute_result"
    }
   ],
   "source": [
    "level_two_predictions = np.array([model.predict_proba(xTestTracks)[:,1] for model in models]).T\n",
    "level_two_predictions"
   ]
  },
  {
   "cell_type": "code",
   "execution_count": 59,
   "metadata": {},
   "outputs": [
    {
     "data": {
      "text/plain": [
       "(280795, 3)"
      ]
     },
     "execution_count": 59,
     "metadata": {},
     "output_type": "execute_result"
    }
   ],
   "source": [
    "level_two_predictions.shape"
   ]
  },
  {
   "cell_type": "code",
   "execution_count": 60,
   "metadata": {},
   "outputs": [],
   "source": [
    "stacked_model = xgboost.XGBClassifier(n_jobs=-1, n_estimators=100).fit(level_two_predictions, yTestTracks)"
   ]
  },
  {
   "cell_type": "code",
   "execution_count": 63,
   "metadata": {},
   "outputs": [],
   "source": [
    "## This is how you come up with the final predictions!!\n",
    "#level_two_predictions_test = np.array([model.predict_proba(xTrainTracks)[:,1] for model in models]).T\n",
    "#final_predictions_test = stacked_model.predict_proba(level_two_predictions_test)"
   ]
  },
  {
   "cell_type": "code",
   "execution_count": 65,
   "metadata": {},
   "outputs": [
    {
     "data": {
      "text/plain": [
       "(842382, 2)"
      ]
     },
     "execution_count": 65,
     "metadata": {},
     "output_type": "execute_result"
    }
   ],
   "source": [
    "#final_predictions_test.shape"
   ]
  },
  {
   "cell_type": "markdown",
   "metadata": {},
   "source": [
    "# Save out result"
   ]
  },
  {
   "cell_type": "code",
   "execution_count": 53,
   "metadata": {},
   "outputs": [
    {
     "data": {
      "text/plain": [
       "(1126099, 1)"
      ]
     },
     "execution_count": 53,
     "metadata": {},
     "output_type": "execute_result"
    }
   ],
   "source": [
    "# Save out baseline for Kaggle\n",
    "fullTest = pd.read_csv('DS_1_test.csv', index_col=0)\n",
    "res = pd.DataFrame(predict_weighted(models, fullTest, weights)[:,1], columns=['Prediction'])\n",
    "res.index.name = 'Id'\n",
    "res.to_csv('result.csv', header=True)\n",
    "res.shape"
   ]
  },
  {
   "cell_type": "markdown",
   "metadata": {},
   "source": [
    "## Stack result output"
   ]
  },
  {
   "cell_type": "code",
   "execution_count": 66,
   "metadata": {},
   "outputs": [
    {
     "data": {
      "text/plain": [
       "(1126099, 1)"
      ]
     },
     "execution_count": 66,
     "metadata": {},
     "output_type": "execute_result"
    }
   ],
   "source": [
    "level_two_predictions_test = np.array([model.predict_proba(fullTest)[:,1] for model in models]).T\n",
    "final_predictions_test = stacked_model.predict_proba(level_two_predictions_test)\n",
    "stackedFrame = pd.DataFrame(final_predictions_test[:,1], columns=['Prediction'])\n",
    "stackedFrame.index.name = 'Id'\n",
    "stackedFrame.to_csv('stacked.csv', header=True)\n",
    "stackedFrame.shape"
   ]
  },
  {
   "cell_type": "markdown",
   "metadata": {},
   "source": [
    "Note that stacking __did not__ help."
   ]
  },
  {
   "cell_type": "code",
   "execution_count": null,
   "metadata": {
    "collapsed": true
   },
   "outputs": [],
   "source": []
  }
 ],
 "metadata": {
  "kernelspec": {
   "display_name": "Python 2",
   "language": "python",
   "name": "python2"
  },
  "language_info": {
   "codemirror_mode": {
    "name": "ipython",
    "version": 2
   },
   "file_extension": ".py",
   "mimetype": "text/x-python",
   "name": "python",
   "nbconvert_exporter": "python",
   "pygments_lexer": "ipython2",
   "version": "2.7.10"
  }
 },
 "nbformat": 4,
 "nbformat_minor": 2
}
